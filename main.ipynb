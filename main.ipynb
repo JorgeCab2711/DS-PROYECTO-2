{
 "cells": [
  {
   "cell_type": "markdown",
   "metadata": {},
   "source": [
    "## __Proyecto 2__\n",
    "\n",
    "Jorge Caballeros Pérez 20009\n",
    "\n",
    "Lucía Alejandra Guzmán Dominguez 20262\n",
    "\n",
    "Pablo Emmanuel Escobar Sandoval 20936\n",
    "\n",
    "Edwin Eduardo Ramirez Herrer 19946 "
   ]
  },
  {
   "cell_type": "markdown",
   "metadata": {},
   "source": [
    "## __Descripcion del dataset__"
   ]
  },
  {
   "cell_type": "markdown",
   "metadata": {},
   "source": [
    "Vamos a realizar el análisis exploratorio de datos (AED) de este conjunto de datos de imágenes en formato TIF. \n",
    "\n",
    "El AED es un enfoque para analizar conjuntos de datos para resumir sus principales características, a menudo con métodos visuales.\n",
    "\n",
    "A continuación se presentan los pasos generales que seguiremos:\n",
    "\n",
    "1. **Carga de datos y comprensión básica**:\n",
    "    - Cargar y revisar las metadatos (`tile_meta.csv` y `wsi_meta.csv`).\n",
    "    - Cargar y revisar las anotaciones (`polygons.jsonl`).\n",
    "    - Cargar y visualizar algunas imágenes TIF para entender su estructura.\n",
    "    \n",
    "2. **Exploración de metadatos**:\n",
    "    - Estadísticas descriptivas básicas.\n",
    "    - Distribución de las imágenes en función de la fuente WSI y otros metadatos.\n",
    "    - Distribución de características demográficas (edad, sexo, raza, etc.) del `wsi_meta.csv`.\n",
    "    \n",
    "3. **Exploración de anotaciones**:\n",
    "    - Conteo y distribución de los diferentes tipos de anotaciones (`blood_vessel`, `glomerulus`, `unsure`).\n",
    "    - Visualización de algunas imágenes con sus respectivas máscaras de anotación.\n",
    "    \n",
    "4. **Exploración de imágenes TIF**:\n",
    "    - Histograma de intensidades de píxeles.\n",
    "    - Comparación de características visuales entre diferentes WSIs.\n",
    "\n"
   ]
  },
  {
   "cell_type": "code",
   "execution_count": 4,
   "metadata": {},
   "outputs": [
    {
     "data": {
      "text/plain": [
       "(             id  source_wsi  dataset      i      j\n",
       " 0  0006ff2aa7cd           2        2  16896  16420\n",
       " 1  000e79e206b7           6        3  10240  29184\n",
       " 2  00168d1b7522           2        2  14848  14884\n",
       " 3  00176a88fdb0           7        3  14848  25088\n",
       " 4  0033bbc76b6b           1        1  10240  43008,\n",
       "    source_wsi  age sex race  height  weight   bmi\n",
       " 0           1   58   F    W   160.0    59.0  23.0\n",
       " 1           2   56   F    W   175.2   139.6  45.5\n",
       " 2           3   73   F    W   162.3    87.5  33.2\n",
       " 3           4   53   M    B   166.0    73.0  26.5,\n",
       " 1633)"
      ]
     },
     "execution_count": 4,
     "metadata": {},
     "output_type": "execute_result"
    }
   ],
   "source": [
    "import pandas as pd\n",
    "import json\n",
    "\n",
    "# Cargar metadatos\n",
    "tile_meta = pd.read_csv(\"tile_meta.csv\")\n",
    "wsi_meta = pd.read_csv(\"wsi_meta.csv\")\n",
    "\n",
    "# Cargar anotaciones\n",
    "with open(\"polygons.jsonl\", 'r') as f:\n",
    "    polygons = [json.loads(line) for line in f]\n",
    "\n",
    "# Mostrar las primeras filas de cada dataframe y el número de anotaciones\n",
    "tile_meta.head(), wsi_meta.head(), len(polygons)\n"
   ]
  },
  {
   "cell_type": "markdown",
   "metadata": {},
   "source": [
    "### Metadatos de los mosaicos (tiles):\n",
    "\n",
    "- **id**: Identificador de la imagen.\n",
    "- **source_wsi**: Identifica la imagen de diapositiva completa (Whole Slide Image, WSI) de la que se extrajo este mosaico.\n",
    "- **dataset**: El conjunto de datos al que pertenece este mosaico.\n",
    "- **i, j**: La ubicación de la esquina superior izquierda dentro de la WSI donde se extrajo el mosaico.\n",
    "\n",
    "Las primeras 5 entradas se muestran arriba.\n",
    "\n",
    "### Metadatos de las imágenes de diapositiva completa (WSIs):\n",
    "\n",
    "- **source_wsi**: Identificador de la WSI.\n",
    "- **age**: Edad del donante del tejido.\n",
    "- **sex**: Sexo del donante del tejido.\n",
    "- **race**: Raza del donante del tejido.\n",
    "- **height**: Altura del donante del tejido (en cm).\n",
    "- **weight**: Peso del donante del tejido (en kg).\n",
    "- **bmi**: Índice de masa corporal del donante del tejido.\n",
    "\n",
    "Las primeras 4 entradas se muestran arriba.\n",
    "\n",
    "### Anotaciones:\n",
    "\n",
    "Tenemos un total de 1633 anotaciones en el archivo `polygons.jsonl`.\n",
    "\n",
    "Aquí están las estadísticas descriptivas de los metadatos:\n",
    "\n",
    "### Metadatos de los mosaicos (tiles):\n",
    "\n",
    "- Tenemos un total de 7033 mosaicos en el conjunto de datos.\n",
    "- Los mosaicos provienen de varias WSIs, con identificadores que varían de 1 a 14.\n",
    "- La mayoría de los mosaicos pertenecen al conjunto de datos 3.\n",
    "- Las ubicaciones \\(i\\) y \\(j\\) de los mosaicos dentro de las WSIs tienen una variedad de valores, indicando que los mosaicos cubren diversas áreas de las imágenes completas.\n",
    "\n",
    "### Metadatos de las imágenes de diapositiva completa (WSIs):\n",
    "\n",
    "- Hay metadatos disponibles para 4 WSIs.\n",
    "- La edad de los donantes del tejido varía de 53 a 73 años.\n",
    "- La mayoría de los donantes son mujeres (F) y de raza blanca (W).\n",
    "- La altura, el peso y el índice de masa corporal (BMI) varían, indicando diversidad en las características físicas de los donantes."
   ]
  },
  {
   "cell_type": "code",
   "execution_count": 5,
   "metadata": {},
   "outputs": [
    {
     "data": {
      "text/plain": [
       "(                  id   source_wsi      dataset             i             j\n",
       " count           7033  7033.000000  7033.000000   7033.000000   7033.000000\n",
       " unique          7033          NaN          NaN           NaN           NaN\n",
       " top     0006ff2aa7cd          NaN          NaN           NaN           NaN\n",
       " freq               1          NaN          NaN           NaN           NaN\n",
       " mean             NaN     8.205744     2.707806  14296.542585  23227.014930\n",
       " std              NaN     4.004251     0.571724   5946.054578  10644.032931\n",
       " min              NaN     1.000000     1.000000   1536.000000   2560.000000\n",
       " 25%              NaN     6.000000     3.000000   9728.000000  15265.000000\n",
       " 50%              NaN     9.000000     3.000000  13824.000000  22528.000000\n",
       " 75%              NaN    12.000000     3.000000  18944.000000  29656.000000\n",
       " max              NaN    14.000000     3.000000  30208.000000  52753.000000,\n",
       "         source_wsi        age  sex race     height      weight       bmi\n",
       " count     4.000000   4.000000    4    4    4.00000    4.000000   4.00000\n",
       " unique         NaN        NaN    2    2        NaN         NaN       NaN\n",
       " top            NaN        NaN    F    W        NaN         NaN       NaN\n",
       " freq           NaN        NaN    3    3        NaN         NaN       NaN\n",
       " mean      2.500000  60.000000  NaN  NaN  165.87500   89.775000  32.05000\n",
       " std       1.290994   8.906926  NaN  NaN    6.68998   35.195679   9.91514\n",
       " min       1.000000  53.000000  NaN  NaN  160.00000   59.000000  23.00000\n",
       " 25%       1.750000  55.250000  NaN  NaN  161.72500   69.500000  25.62500\n",
       " 50%       2.500000  57.000000  NaN  NaN  164.15000   80.250000  29.85000\n",
       " 75%       3.250000  61.750000  NaN  NaN  168.30000  100.525000  36.27500\n",
       " max       4.000000  73.000000  NaN  NaN  175.20000  139.600000  45.50000)"
      ]
     },
     "execution_count": 5,
     "metadata": {},
     "output_type": "execute_result"
    }
   ],
   "source": [
    "# Estadísticas descriptivas para tile_meta\n",
    "tile_meta_description = tile_meta.describe(include='all')\n",
    "\n",
    "# Estadísticas descriptivas para wsi_meta\n",
    "wsi_meta_description = wsi_meta.describe(include='all')\n",
    "\n",
    "tile_meta_description, wsi_meta_description\n"
   ]
  },
  {
   "cell_type": "markdown",
   "metadata": {},
   "source": [
    "\n",
    "1. **Distribución de mosaicos por source_wsi**:\n",
    "    - Observamos que la mayoría de los mosaicos provienen de las WSIs con identificadores del 6 al 14, siendo el 9 el que tiene la mayor cantidad.\n",
    "\n",
    "2. **Distribución de mosaicos por dataset**:\n",
    "    - La mayoría de los mosaicos pertenecen al conjunto de datos 3, seguido por el conjunto de datos 2. Hay una cantidad menor en el conjunto de datos 1.\n",
    "\n",
    "3. **Distribución de donantes por sexo**:\n",
    "    - Hay más donantes femeninas que masculinos en las WSIs para las cuales tenemos metadatos.\n",
    "\n",
    "4. **Distribución de donantes por raza**:\n",
    "    - La mayoría de los donantes son de raza blanca, con solo un donante de otra raza.\n",
    "\n",
    "A continuación, exploraremos las anotaciones para comprender cómo están distribuidos los diferentes tipos de estructuras en las imágenes.\n",
    "\n",
    "La distribución de tipos de anotaciones es la siguiente:\n",
    "\n",
    "- **blood_vessel**: Esta es la estructura objetivo de la competencia, y la mayoría de las anotaciones pertenecen a este tipo. Representa los vasos sanguíneos en las imágenes.\n",
    "- **glomerulus**: Estas son estructuras en forma de bola capilar en el riñón. No hay muchas anotaciones de este tipo en comparación con \"blood_vessel\", pero es importante tener en cuenta que cualquier predicción dentro de estas estructuras en el conjunto de prueba se contará como falsos positivos.\n",
    "- **unsure**: Representa estructuras que los expertos anotadores no pueden identificar con confianza como un vaso sanguíneo. Hay muy pocas anotaciones de este tipo."
   ]
  },
  {
   "cell_type": "markdown",
   "metadata": {},
   "source": [
    "## __Análisis exploratorio__"
   ]
  },
  {
   "cell_type": "markdown",
   "metadata": {},
   "source": [
    "### 1. Investigación del Tema:\n",
    "\n",
    "**Microvasculatura en la histología renal**:\n",
    "La microvasculatura se refiere a los vasos sanguíneos más pequeños en el sistema circulatorio, como capilares, arteriolas y vénulas. Estos vasos juegan un papel crucial en la regulación del flujo sanguíneo y la presión arterial. \n",
    "\n",
    "En el contexto de la histología renal, la microvasculatura es esencial para la función renal, ya que los riñones requieren un suministro constante de sangre para filtrar y regular el equilibrio de fluidos y electrolitos en el cuerpo. Los vasos sanguíneos (microvasculatura) en las imágenes histológicas permiten la identificación de diversas patologías renales.\n",
    "\n",
    "**Enfermedad renal y diagnóstico basado en imágenes**:\n",
    "La enfermedad renal se refiere a cualquier condición que afecte la función renal. Los síntomas pueden incluir fatiga, hinchazón en manos y pies, micción frecuente y espuma en la orina, entre otros. El diagnóstico de enfermedades renales a menudo implica pruebas de sangre y orina, así como imágenes médicas. \n",
    "\n",
    "Las imágenes histológicas del riñón, como las proporcionadas en este conjunto de datos, ofrecen una visión detallada de la estructura y morfología del tejido renal. Identificar anomalías o cambios en la microvasculatura puede ser indicativo de ciertas patologías.\n",
    "\n",
    "### 2. Análisis del Problema y Datos:\n",
    "El objetivo de este conjunto de datos es localizar estructuras de microvasculatura (vasos sanguíneos) dentro de diapositivas histológicas de riñón humano. Estas estructuras son esenciales para comprender la salud y función del tejido renal. Las anotaciones proporcionadas indican la ubicación de los vasos sanguíneos, glomérulos (una estructura esencial en la filtración renal) y áreas \"inseguras\" que no pudieron ser identificadas con confianza.\n",
    "\n",
    "### 3. Limpieza y Preprocesamiento:\n",
    "Hasta ahora, hemos cargado y revisado las metadatos y anotaciones. No hemos realizado tareas de limpieza específicas, ya que aún no hemos identificado datos faltantes o inconsistentes. Sin embargo, en un análisis real, se deberían considerar pasos como la verificación de datos faltantes, la eliminación de duplicados y la corrección de posibles errores en las anotaciones.\n",
    "\n",
    "### 4. Análisis Exploratorio de Datos:\n",
    "**a. Descripción de variables y observaciones**:\n",
    "Hemos descrito las variables disponibles en los metadatos y anotaciones anteriormente.\n",
    "\n",
    "**b. Resumen de variables numéricas y tablas de frecuencia**:\n",
    "Las variables numéricas disponibles son principalmente las coordenadas de ubicación de los mosaicos. También tenemos datos demográficos como edad, altura, peso y BMI del donante del tejido. Las tablas de frecuencia se han generado para las WSIs de origen y los conjuntos de datos.\n",
    "\n",
    "**c. Cruce de variables importantes**:\n",
    "Hasta ahora, hemos visualizado la distribución de mosaicos en función de la fuente WSI y el conjunto de datos, así como la distribución de donantes según el sexo y la raza.\n",
    "\n",
    "**d. Gráficos exploratorios**:\n",
    "Se han generado gráficos de barras para visualizar la distribución de mosaicos y donantes.\n",
    "\n",
    "### 5. Conclusiones:\n",
    "- El conjunto de datos proporciona información detallada sobre la histología renal, centrada en la identificación de la microvasculatura.\n",
    "- Las anotaciones ayudarán a entrenar modelos para identificar vasos sanguíneos, glomérulos y áreas inciertas en imágenes histológicas.\n",
    "- Se necesita una atención especial al procesar imágenes con compresión LZW, lo que requiere herramientas y paquetes específicos.\n",
    "- Las imágenes provienen de diversos WSIs, lo que sugiere una diversidad en los datos que pueden ayudar en la robustez del modelo.\n"
   ]
  },
  {
   "cell_type": "code",
   "execution_count": 1,
   "metadata": {},
   "outputs": [
    {
     "ename": "ModuleNotFoundError",
     "evalue": "No module named 'shapely'",
     "output_type": "error",
     "traceback": [
      "\u001b[1;31m---------------------------------------------------------------------------\u001b[0m",
      "\u001b[1;31mModuleNotFoundError\u001b[0m                       Traceback (most recent call last)",
      "\u001b[1;32mc:\\Users\\jorge\\OneDrive\\Documentos\\GitHub\\DS-PROYECTO-2\\main.ipynb Cell 4\u001b[0m line \u001b[0;36m5\n\u001b[0;32m      <a href='vscode-notebook-cell:/c%3A/Users/jorge/OneDrive/Documentos/GitHub/DS-PROYECTO-2/main.ipynb#W6sZmlsZQ%3D%3D?line=2'>3</a>\u001b[0m \u001b[39mimport\u001b[39;00m \u001b[39mmatplotlib\u001b[39;00m\u001b[39m.\u001b[39;00m\u001b[39mpyplot\u001b[39;00m \u001b[39mas\u001b[39;00m \u001b[39mplt\u001b[39;00m\n\u001b[0;32m      <a href='vscode-notebook-cell:/c%3A/Users/jorge/OneDrive/Documentos/GitHub/DS-PROYECTO-2/main.ipynb#W6sZmlsZQ%3D%3D?line=3'>4</a>\u001b[0m \u001b[39mimport\u001b[39;00m \u001b[39mseaborn\u001b[39;00m \u001b[39mas\u001b[39;00m \u001b[39msns\u001b[39;00m\n\u001b[1;32m----> <a href='vscode-notebook-cell:/c%3A/Users/jorge/OneDrive/Documentos/GitHub/DS-PROYECTO-2/main.ipynb#W6sZmlsZQ%3D%3D?line=4'>5</a>\u001b[0m \u001b[39mfrom\u001b[39;00m \u001b[39mshapely\u001b[39;00m\u001b[39m.\u001b[39;00m\u001b[39mgeometry\u001b[39;00m \u001b[39mimport\u001b[39;00m Polygon\n\u001b[0;32m      <a href='vscode-notebook-cell:/c%3A/Users/jorge/OneDrive/Documentos/GitHub/DS-PROYECTO-2/main.ipynb#W6sZmlsZQ%3D%3D?line=5'>6</a>\u001b[0m \u001b[39mimport\u001b[39;00m \u001b[39mnumpy\u001b[39;00m \u001b[39mas\u001b[39;00m \u001b[39mnp\u001b[39;00m\n\u001b[0;32m      <a href='vscode-notebook-cell:/c%3A/Users/jorge/OneDrive/Documentos/GitHub/DS-PROYECTO-2/main.ipynb#W6sZmlsZQ%3D%3D?line=6'>7</a>\u001b[0m \u001b[39mimport\u001b[39;00m \u001b[39mtifffile\u001b[39;00m \u001b[39mas\u001b[39;00m \u001b[39mtiff\u001b[39;00m\n",
      "\u001b[1;31mModuleNotFoundError\u001b[0m: No module named 'shapely'"
     ]
    }
   ],
   "source": [
    "\n",
    "import pandas as pd\n",
    "import json\n",
    "import matplotlib.pyplot as plt\n",
    "import seaborn as sns\n",
    "from shapely.geometry import Polygon\n",
    "import numpy as np\n",
    "import tifffile as tiff\n",
    "\n",
    "# Cargar metadatos\n",
    "tile_meta = pd.read_csv(\"tile_meta.csv\")\n",
    "wsi_meta = pd.read_csv(\"wsi_meta.csv\")\n",
    "\n",
    "# Cargar anotaciones\n",
    "with open(\"polygons.jsonl\", 'r') as f:\n",
    "    polygons = [json.loads(line) for line in f]\n",
    "\n",
    "# Crear un DataFrame a partir de las anotaciones\n",
    "annotations_df = pd.DataFrame(polygons)\n",
    "annotations_df['annotation_type'] = annotations_df['annotations'].apply(lambda x: x[0]['type'] if x else None)\n",
    "\n",
    "# Función para generar máscara binaria a partir de anotaciones\n",
    "def create_mask_from_annotations(shape, annotations):\n",
    "    mask = np.zeros(shape, dtype=np.uint8)\n",
    "    for annotation in annotations:\n",
    "        if 'coordinates' in annotation:\n",
    "            poly = Polygon(annotation['coordinates'][0])\n",
    "            x, y = poly.exterior.xy\n",
    "            rr, cc = polygon(y, x)\n",
    "            mask[rr, cc] = 1\n",
    "    return mask\n",
    "\n",
    "# Visualización de imagen y anotaciones\n",
    "def visualize_image_with_annotations(image_id, image_path):\n",
    "    image = tiff.imread(image_path)\n",
    "    image_annotations = annotations_df[annotations_df['id'] == image_id]['annotations'].values[0]\n",
    "    blood_vessel_mask = create_mask_from_annotations(image.shape[:2], [a for a in image_annotations if a['type'] == 'blood_vessel'])\n",
    "    glomerulus_mask = create_mask_from_annotations(image.shape[:2], [a for a in image_annotations if a['type'] == 'glomerulus'])\n",
    "    unsure_mask = create_mask_from_annotations(image.shape[:2], [a for a in image_annotations if a['type'] == 'unsure'])\n",
    "    \n",
    "    fig, ax = plt.subplots(figsize=(10, 10))\n",
    "    ax.imshow(image)\n",
    "    ax.imshow(blood_vessel_mask, alpha=0.3, cmap='Reds', label='blood_vessel')\n",
    "    ax.imshow(glomerulus_mask, alpha=0.3, cmap='Blues', label='glomerulus')\n",
    "    ax.imshow(unsure_mask, alpha=0.3, cmap='Greens', label='unsure')\n",
    "    ax.set_title(image_id)\n",
    "    ax.axis('off')\n",
    "    plt.legend()\n",
    "    plt.show()\n",
    "\n",
    "\n"
   ]
  }
 ],
 "metadata": {
  "kernelspec": {
   "display_name": "Python 3",
   "language": "python",
   "name": "python3"
  },
  "language_info": {
   "codemirror_mode": {
    "name": "ipython",
    "version": 3
   },
   "file_extension": ".py",
   "mimetype": "text/x-python",
   "name": "python",
   "nbconvert_exporter": "python",
   "pygments_lexer": "ipython3",
   "version": "3.11.3"
  },
  "orig_nbformat": 4
 },
 "nbformat": 4,
 "nbformat_minor": 2
}
